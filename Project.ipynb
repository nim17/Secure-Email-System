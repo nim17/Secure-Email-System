{
 "cells": [
  {
   "cell_type": "markdown",
   "metadata": {},
   "source": [
    "### Signup"
   ]
  },
  {
   "cell_type": "code",
   "execution_count": 2,
   "metadata": {},
   "outputs": [],
   "source": [
    "def signup() :\n",
    "    print(\"Enter your details \")\n",
    "    name = input(\"Name : \")\n",
    "    age = int(input(\"Age : \"))\n",
    "    no = int(input(\"Mobile number : \"))\n",
    "    while 1:\n",
    "        try :\n",
    "            username = input(\"Username : \")\n",
    "            f = open(username,'r')\n",
    "            print(\"This username is already taken\\nTry a new username\")\n",
    "        except FileNotFoundError :\n",
    "            password = input(\"Password :\")\n",
    "            f = open(username,'w')\n",
    "            f.write(username)\n",
    "            f.write('\\n')\n",
    "            f.write(str(no))\n",
    "            f.write('\\n')\n",
    "            f.write(name)\n",
    "            f.write('\\n')\n",
    "            f.write(str(age))\n",
    "            f.write('\\n')\n",
    "            f.write(password)\n",
    "            print(\"Thanks for Signup\")\n",
    "            f.close()\n",
    "            break\n",
    "    "
   ]
  },
  {
   "cell_type": "markdown",
   "metadata": {},
   "source": [
    "### Signin"
   ]
  },
  {
   "cell_type": "code",
   "execution_count": 3,
   "metadata": {},
   "outputs": [],
   "source": [
    "def signin() :\n",
    "    while 1:\n",
    "        try :\n",
    "            username=input(\"Enter your username \")\n",
    "            f=open(username,'r')\n",
    "            penter=input(\"Enter your password \")\n",
    "            password = f.readlines()\n",
    "            if penter == password[-1] :\n",
    "                print(\"Welcome \")\n",
    "                f.close()\n",
    "                break\n",
    "            else:\n",
    "                print(\"Password doesnot match\")\n",
    "                while 1:\n",
    "                    penter=input(\"Enter your password \")\n",
    "                    if penter == password[-1] :\n",
    "                        print(\"Welcome \")\n",
    "                        f.close()\n",
    "                        break\n",
    "                    else:\n",
    "                        print(\"Password doesnot match\")\n",
    "                break              \n",
    "        except FileNotFoundError :\n",
    "                print(\"This username doesnot exist\")"
   ]
  },
  {
   "cell_type": "markdown",
   "metadata": {},
   "source": [
    "### Forgot Password"
   ]
  },
  {
   "cell_type": "code",
   "execution_count": 4,
   "metadata": {},
   "outputs": [],
   "source": [
    "import random\n",
    "from twilio.rest import Client\n",
    "def forgot() :\n",
    "    while 1 :\n",
    "        try :\n",
    "            username=input(\"Enter your username \")\n",
    "            f=open(username,'r')\n",
    "            password = f.readlines()\n",
    "            no=password[1]\n",
    "            no='+91'+str(no)\n",
    "            \n",
    "            c=random.randrange(1000,9999)\n",
    "            c=str(c)\n",
    "            account_sid = 'ACeeb7ca8f2af943f3ad5a7f56ea3823b4'\n",
    "            auth_token = 'dfe8662e5fcc3d032434b078a68d23dd'\n",
    "            client = Client(account_sid, auth_token)\n",
    "\n",
    "            message = client.messages \\\n",
    "                .create(\n",
    "                     body='The auto generated OTP is ' + c,\n",
    "                     from_='+12564826894',\n",
    "                     to = no\n",
    "                 )\n",
    "            otp=c\n",
    "            otpenter = input(\"Enter the OTP \")\n",
    "            f.close()\n",
    "            f = open(username,'w')\n",
    "            if otp == otpenter :\n",
    "                newp1 = input(\"Enter new password \")\n",
    "                newp2 = input(\"Confirm password \")\n",
    "                if newp1 == newp2:\n",
    "                    for i in password :\n",
    "                        if i!=password[-1]:\n",
    "                            f.write(i)\n",
    "                        else :\n",
    "                            f.write(newp1)\n",
    "                            print(\"Password has been updated \")\n",
    "                            f.close()\n",
    "                break\n",
    "            else:\n",
    "                print(\"OTP doesnot match\")\n",
    "        except FileNotFoundError :\n",
    "                print(\"This username doesnot exist\")\n",
    "    "
   ]
  },
  {
   "cell_type": "code",
   "execution_count": null,
   "metadata": {},
   "outputs": [],
   "source": []
  },
  {
   "cell_type": "markdown",
   "metadata": {},
   "source": [
    "### Main"
   ]
  },
  {
   "cell_type": "code",
   "execution_count": 5,
   "metadata": {},
   "outputs": [
    {
     "name": "stdout",
     "output_type": "stream",
     "text": [
      "Press 1 for Signup\n",
      "Press 2 for Signin\n",
      "Press 3 if you forgot password\n",
      "Press 4 to exit \n"
     ]
    }
   ],
   "source": [
    "print(\"Press 1 for Signup\")\n",
    "print(\"Press 2 for Signin\")\n",
    "print(\"Press 3 if you forgot password\")\n",
    "print(\"Press 4 to exit \")\n",
    "def work() :\n",
    "    while 1 :    \n",
    "        choice =int(input(\"Enter your choice \"))\n",
    "        if choice == 1 :\n",
    "            signup()\n",
    "        elif choice == 2 :\n",
    "            signin()\n",
    "        elif choice == 3 :\n",
    "            forgot()\n",
    "        elif choice == 4:\n",
    "            break\n",
    "        else:\n",
    "            print(\"Wrong Choice, Try again \")\n",
    "    print(\"Thanks for using our software\")"
   ]
  },
  {
   "cell_type": "code",
   "execution_count": null,
   "metadata": {},
   "outputs": [],
   "source": [
    "def check():\n",
    "    try :\n",
    "        work()\n",
    "    except ValueError:\n",
    "        print(\"Invalid entry, Try again\")\n",
    "        check()\n",
    "check()"
   ]
  },
  {
   "cell_type": "code",
   "execution_count": null,
   "metadata": {},
   "outputs": [],
   "source": []
  },
  {
   "cell_type": "code",
   "execution_count": null,
   "metadata": {},
   "outputs": [],
   "source": []
  },
  {
   "cell_type": "code",
   "execution_count": null,
   "metadata": {},
   "outputs": [],
   "source": []
  },
  {
   "cell_type": "code",
   "execution_count": null,
   "metadata": {},
   "outputs": [],
   "source": []
  },
  {
   "cell_type": "code",
   "execution_count": null,
   "metadata": {},
   "outputs": [],
   "source": []
  },
  {
   "cell_type": "code",
   "execution_count": null,
   "metadata": {},
   "outputs": [],
   "source": []
  }
 ],
 "metadata": {
  "kernelspec": {
   "display_name": "Python 3",
   "language": "python",
   "name": "python3"
  },
  "language_info": {
   "codemirror_mode": {
    "name": "ipython",
    "version": 3
   },
   "file_extension": ".py",
   "mimetype": "text/x-python",
   "name": "python",
   "nbconvert_exporter": "python",
   "pygments_lexer": "ipython3",
   "version": "3.6.8"
  }
 },
 "nbformat": 4,
 "nbformat_minor": 2
}
